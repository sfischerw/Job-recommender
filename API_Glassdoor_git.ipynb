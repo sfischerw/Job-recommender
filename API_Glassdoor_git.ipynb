{
 "cells": [
  {
   "cell_type": "code",
   "execution_count": 1,
   "metadata": {
    "collapsed": true
   },
   "outputs": [],
   "source": [
    "import requests\n",
    "import json\n",
    "import time\n",
    "\n",
    "import pymysql as mdb"
   ]
  },
  {
   "cell_type": "markdown",
   "metadata": {},
   "source": [
    "# Query the API and pickle results"
   ]
  },
  {
   "cell_type": "code",
   "execution_count": 2,
   "metadata": {
    "collapsed": true
   },
   "outputs": [],
   "source": [
    "# Fetch list of jobs\n",
    "con = mdb.connect('localhost', 'root', '', 'job_profiler', autocommit=True,\n",
    "                 charset='utf8', use_unicode=True)\n",
    "cur = con.cursor()\n",
    "\n",
    "cur.execute(\"SELECT company FROM cj_jobs\")\n",
    "fetch_companies = cur.fetchall()"
   ]
  },
  {
   "cell_type": "code",
   "execution_count": 3,
   "metadata": {
    "collapsed": false
   },
   "outputs": [
    {
     "data": {
      "text/plain": [
       "2257"
      ]
     },
     "execution_count": 3,
     "metadata": {},
     "output_type": "execute_result"
    }
   ],
   "source": [
    "# Get unique companies\n",
    "companies = []\n",
    "for c in fetch_companies:\n",
    "    if c[0]:\n",
    "        companies.append(c[0])\n",
    "\n",
    "companies = list(set(companies))\n",
    "len(companies)"
   ]
  },
  {
   "cell_type": "code",
   "execution_count": 5,
   "metadata": {
    "collapsed": false
   },
   "outputs": [],
   "source": [
    "# The query (for companies, in this case)\n",
    "#query = 'pharmaceuticals'\n",
    "    # Open these from files later for security\n",
    "p_id = '51179' \n",
    "p_key = 'iA3w7r4bneI'\n",
    "endpoint = 'http://api.glassdoor.com/api/api.htm'\n",
    "\n",
    "company_scores = {}\n",
    "\n",
    "for c in companies:\n",
    "\n",
    "    query_params = {'v': '1',\n",
    "                    'format': 'json',\n",
    "                    't.p': p_id,\n",
    "                    't.k': p_key,\n",
    "                    'action': 'employers',\n",
    "                    'q': c,\n",
    "                    'userip': '73.222.121.109',\n",
    "                    'useragent': 'Mozilla/4.0',      \n",
    "             }\n",
    "\n",
    "    response = requests.get(endpoint, params=query_params,\n",
    "                            headers = {'User-Agent': 'Mozilla/4.0'}\n",
    "                           )\n",
    "    # JSON is initially a string, let's convert to proper dict\n",
    "    response_json = json.loads(response.content)\n",
    "    time.sleep(.1)\n",
    "    #print response_json['success']\n",
    "    if not response_json['success']:\n",
    "        continue\n",
    "    if len(response_json['response']['employers']) > 0:\n",
    "        # Just take first in list (presumably best)\n",
    "        c_data = response_json['response']['employers'][0]\n",
    "        #print c, c_data['workLifeBalanceRating'], c_data['careerOpportunitiesRating'], \n",
    "        company_scores[c] = c_data['overallRating']\n",
    "        "
   ]
  },
  {
   "cell_type": "code",
   "execution_count": 6,
   "metadata": {
    "collapsed": false
   },
   "outputs": [
    {
     "name": "stdout",
     "output_type": "stream",
     "text": [
      "1580\n"
     ]
    }
   ],
   "source": [
    "print len(company_scores)"
   ]
  }
 ],
 "metadata": {
  "kernelspec": {
   "display_name": "Python 2",
   "language": "python",
   "name": "python2"
  },
  "language_info": {
   "codemirror_mode": {
    "name": "ipython",
    "version": 2
   },
   "file_extension": ".py",
   "mimetype": "text/x-python",
   "name": "python",
   "nbconvert_exporter": "python",
   "pygments_lexer": "ipython2",
   "version": "2.7.10"
  }
 },
 "nbformat": 4,
 "nbformat_minor": 0
}
