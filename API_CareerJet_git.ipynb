{
 "cells": [
  {
   "cell_type": "markdown",
   "metadata": {},
   "source": [
    "pip install careerjet_api_client\n",
    "\n",
    "https://github.com/careerjet/careerjet-api-client-python "
   ]
  },
  {
   "cell_type": "code",
   "execution_count": 1,
   "metadata": {
    "collapsed": false
   },
   "outputs": [],
   "source": [
    "import datetime\n",
    "import time\n",
    "\n",
    "from careerjet_api_client import CareerjetAPIClient\n",
    "import pymysql as mdb"
   ]
  },
  {
   "cell_type": "code",
   "execution_count": 2,
   "metadata": {
    "collapsed": false
   },
   "outputs": [
    {
     "data": {
      "text/plain": [
       "'2016-01-13'"
      ]
     },
     "execution_count": 2,
     "metadata": {},
     "output_type": "execute_result"
    }
   ],
   "source": [
    "time.strftime('%Y-%m-%d')"
   ]
  },
  {
   "cell_type": "code",
   "execution_count": null,
   "metadata": {
    "collapsed": true
   },
   "outputs": [],
   "source": [
    "# Creating job table"
   ]
  },
  {
   "cell_type": "raw",
   "metadata": {
    "collapsed": false
   },
   "source": [
    "con = mdb.connect('localhost', 'root', '', 'job_profiler', autocommit=True,\n",
    "                 charset='utf8', use_unicode=True)\n",
    "cur = con.cursor()\n",
    "\n",
    "cur.execute(\"DROP TABLE IF EXISTS cj_jobs\")\n",
    "cur.execute(\"\"\"\n",
    "CREATE TABLE cj_jobs\n",
    "(pid INT PRIMARY KEY AUTO_INCREMENT,\n",
    "salary VARCHAR(40),\n",
    "salary_min VARCHAR(10),\n",
    "title VARCHAR(200),\n",
    "company VARCHAR(80),\n",
    "locations VARCHAR(50),\n",
    "site VARCHAR(200),\n",
    "salary_currency_code VARCHAR(10),\n",
    "date VARCHAR(12),\n",
    "salary_max VARCHAR(10),\n",
    "salary_type VARCHAR(5),\n",
    "q_term VARCHAR(100),\n",
    "q_location VARCHAR(50),\n",
    "url VARCHAR(600) )\n",
    "\"\"\"         )\n",
    "\n",
    "# Think also of adding last_seen and fields_seen columns VARCHAR(12)"
   ]
  },
  {
   "cell_type": "markdown",
   "metadata": {
    "collapsed": true
   },
   "source": [
    "# Multicriteria query"
   ]
  },
  {
   "cell_type": "code",
   "execution_count": 3,
   "metadata": {
    "collapsed": false
   },
   "outputs": [],
   "source": [
    "query_keywords = ['data scientist', \n",
    "                  'data science',\n",
    "                  'decision science',\n",
    "                  'decision scientist',\n",
    "                  'cognitive',\n",
    "                  'user research',\n",
    "                  'user researcher', \n",
    "                  'user experience', \n",
    "                  'UX',\n",
    "                  'human computer interaction',\n",
    "                  'HCI', \n",
    "                  'human factor engineer', \n",
    "                  'human factor engineering',\n",
    "                  'usability',\n",
    "                  'quantitative researcher',\n",
    "                  'quantitative research',\n",
    "                  'human factors'\n",
    "                 ]\n",
    "\n",
    "query_locations = ['mountain view',\n",
    "                   'palo alto',\n",
    "                   'menlo park',\n",
    "                   'cupertino',\n",
    "                   'campbell',\n",
    "                   'san carlos',\n",
    "                   'san mateo',\n",
    "                   'sunnyvale', \n",
    "                   'santa clara',\n",
    "                   'san jose',\n",
    "                   'san francisco'\n",
    "                  ]\n",
    "\n",
    "# affid saved in text file\n",
    "id_file = open('resources/careerjet_affid.txt')\n",
    "my_id = id_file.readline()\n",
    "my_id = my_id.strip()"
   ]
  },
  {
   "cell_type": "code",
   "execution_count": 7,
   "metadata": {
    "collapsed": false
   },
   "outputs": [
    {
     "name": "stdout",
     "output_type": "stream",
     "text": [
      "data scientist:\n",
      "\tmountain view 30\n",
      "\n",
      "total: 30\n"
     ]
    }
   ],
   "source": [
    "# Each block of 99 results will be stored in a list\n",
    "all_results = []\n",
    "\n",
    "cj  =  CareerjetAPIClient(\"en_US\");\n",
    "for keyword in query_keywords[:1]:\n",
    "    print keyword + ':'\n",
    "    for location in query_locations[:1]:\n",
    "        max_page = 1  # api calculates max num pages based on pagesize and hits\n",
    "        page_num = 1  # start w/ first page\n",
    "        total = 0     # running total for this keyword, location \n",
    "        while page_num <= max_page:\n",
    "            time.sleep(1)\n",
    "\n",
    "            result_json = cj.search({'location'    : location,\n",
    "                                     'keywords'    : keyword,\n",
    "                                     'affid'       : my_id,\n",
    "                                     'user_ip'     : '73.222.121.109',\n",
    "                                     'url'         : 'http://xfinity.com',\n",
    "                                     'pagesize'    : 99,\n",
    "                                     'page'        : page_num,\n",
    "                                     'contracttype': 'p',\n",
    "                                     'sort'        : 'salary',\n",
    "                                     'user_agent'  : 'Chrome/47.0.2526.80 Safari/537.36'\n",
    "                                      })\n",
    "\n",
    "            # if bad response, break out of loop\n",
    "            if 'hits' not in result_json:\n",
    "                break\n",
    "                \n",
    "            # if no jobs whatsoever, move on\n",
    "            if result_json['hits'] == 0:\n",
    "                break\n",
    "            \n",
    "            # This is the same for each page of query, \n",
    "            # and depends on pagesize.\n",
    "            max_page = result_json['pages']\n",
    "            \n",
    "            # Append jobs for this query page\n",
    "            for job in result_json['jobs']:\n",
    "                all_results.append((job, keyword, location))\n",
    "\n",
    "            # Incremement page counter\n",
    "            page_num += 1\n",
    "            total += len(result_json['jobs'])\n",
    "        print '\\t', location,\n",
    "        print total,\n",
    "        print\n",
    "    print\n",
    "\n",
    "print \"total:\", len(all_results)"
   ]
  },
  {
   "cell_type": "code",
   "execution_count": 13,
   "metadata": {
    "collapsed": false
   },
   "outputs": [
    {
     "name": "stdout",
     "output_type": "stream",
     "text": [
      "http://jobviewtrack.com/en-us/job-481e415e4e0d0a00531d53176a050f13042210091d120a585e44480a1b07540021545c5557/547ae473229621697a645ed214ba8f37.html?affid=2dba63bec709301650048b13f60d344d\n",
      "http://jobviewtrack.com/en-us/job-4b19414a580d4f0a4202450f07110b156744111e0c1f455b585f2f0e0e184607431101111a650f4102091a1058424d590d000a1842184f130d136f5051144d/e6a3a59de6bb473bafe7cf1de460c6bc.html?affid=2dba63bec709301650048b13f60d344d\n",
      "http://jobviewtrack.com/en-us/job-1f12415e4e0d0a00531d53176a021b1311491a0f49164e4c582f49051b0f07154e0204181a0e0653760c08074b0b4e4e4401011a4e075461090f0f0b1c541d0b1a534e4a494c0d170c07421a540a1b156f5051144d/daacfbb9fd622d02439d80e5e47ef6f3.html?affid=2dba63bec709301650048b13f60d344d\n",
      "http://jobviewtrack.com/en-us/job-1e1d415e4e0d0a00531d53176a0b0f11042210091d1228415c5b4c440c02480144610c001a06455317010c1d5e424e592c535b5a1e/9a562cbd5579265d13767f2c956def4b.html?affid=2dba63bec709301650048b13f60d344d\n",
      "http://jobviewtrack.com/en-us/job-4e1e41494c100e4e5417490606020b650f4102094916444c544348011d6c4d155602480202081044760c08074b0b58434a0d010b42062200040e1b0345451a0f001d4f4e4f2c1a505b57/20e3b68e0c7b9555a9acae29ab425be0.html?affid=2dba63bec709301650048b13f60d344d\n",
      "http://jobviewtrack.com/en-us/job-4e1e41494c100e4e5417490606020b650f4102094916444c544348011d6c4d155602480202081044760c08074b0b58434a0d010b42062200040e1b0345451a0f001d4f4e4f2c1a505b57/9b8483636596682b592c9a79d78fbd7a.html?affid=2dba63bec709301650048b13f60d344d\n",
      "http://jobviewtrack.com/en-us/job-4e1e41494c100e4e5417490606020b650f4102094916444c544348011d6c4d155602480202081044760c08074b0b58434a0d010b42062200040e1b0345451a0f001d4f4e4f2c1a505b57/e887fe7f3e6d3c953387b1b8eb73d38c.html?affid=2dba63bec709301650048b13f60d344d\n",
      "http://jobviewtrack.com/en-us/job-4c4f415e4e0d0a00531d53176a0c0f040d491a0d491f4f4a4f43440a084e5417490606150714112210091d120a585e44480a1b075400220e0902060e0b4554040c12584554434a66020f441c490d0d6059535119/2593ce505a53dcb2cbbffd66aa31f289.html?affid=2dba63bec709301650048b13f60d344d\n",
      "http://jobviewtrack.com/en-us/job-4c4f415e4e0d0a00531d53176a0c0f040d491a0d491f4f4a4f43440a084e5417490606150714112210091d120a585e44480a1b075400220e0902060e0b4554040c12584554434a66020f441c490d0d6059535119/d04494adbea19a1988fd1a9a384d9643.html?affid=2dba63bec709301650048b13f60d344d\n",
      "http://jobviewtrack.com/en-us/job-481e415e4e0d0a00531d53176a050f13042210091d120a585e44480a1b07540021545c5557/abfe3995307d1364c903f8876470b572.html?affid=2dba63bec709301650048b13f60d344d\n",
      "http://jobviewtrack.com/en-us/job-481e415e4e0d0a00531d53176a050f13042210091d120a585e44480a1b07540021545c5557/e996dbff887ccf191ce695f0dc0680b8.html?affid=2dba63bec709301650048b13f60d344d\n",
      "http://jobviewtrack.com/en-us/job-1b1a414e410d010744154c431b0207020b541d1b1d714947544344070e02070448021a0c0f040a4c1b0f10714947544344070e02070448021a0c0f040a4c1b0f1053594854484310061d5376430f010f0704044c54091a004548544c59016d0f54074f0001001a02455317010c1d5e424e592c535b5a1e/1ccf4546a0279bac56cd13ddfc5fb1b6.html?affid=2dba63bec709301650048b13f60d344d\n",
      "http://jobviewtrack.com/en-us/job-484f414c5e17000d4e1554066a120d0e004e00011a07284a4e5e4207060f531100100b080b091149071c68441e1f04/397e27b86e1b70ba976c9a85f022d81b.html?affid=2dba63bec709301650048b13f60d344d\n",
      "http://jobviewtrack.com/en-us/job-491c415d4c1007014b1b471a4808030602491a0f6b1a474a5a4443034f1d441d450d1c081d1367531106001c580b4e4e4401011a4e0754610c08090e1141184819125e4352414203166c431d470a1c0002470c4d150f001d4d2a0a19195d/b7f9e89e38f01b69ffec5945b0455c0b.html?affid=2dba63bec709301650048b13f60d344d\n",
      "http://jobviewtrack.com/en-us/job-484f414c5e17000d4e1554066a120d0e004e00011a07284a4e5e4207060f531100100b080b091149071c68441e1f04/0aeefa4112fa488748f4c70d49701359.html?affid=2dba63bec709301650048b13f60d344d\n",
      "http://jobviewtrack.com/en-us/job-484841494014046c4607530c0b080f130022070b0016445f545e59660e1d541b430a09150b4716431d0d07074358492c1a505b57/ac40935fee214ab0c93d79bd45fbe1d7.html?affid=2dba63bec709301650048b13f60d344d\n",
      "http://jobviewtrack.com/en-us/job-484f414c5e17000d4e1554066a120d0e004e00011a07284a4e5e4207060f531100100b080b091149071c68441e1f04/762948b6e7fad5b2c57cec33b659d22c.html?affid=2dba63bec709301650048b13f60d344d\n",
      "http://jobviewtrack.com/en-us/job-1e1a414e410d010744154c431b0207020b541d1b1d71594854484310061d5376430f010f0704044c54091a004548544c59016d0f54074f0001001a02455317010c1d5e424e592f170c07421a540a1b154e0e0c21435c5d4a/71375e2cb12d47d818d4c30f0a211033.html?affid=2dba63bec709301650048b13f60d344d\n",
      "http://jobviewtrack.com/en-us/job-191a414c5e17000d4e15540648120d0e004e00011a072849544240051d05420600021b120f1e455317010c1d5e424e592f051c1d460d00070d170b0b0a50190d07070a585e44480a1b07540022021b120f1e4544111e0c1f455b504843106d0a4202450f071103020b5454091a004548544c59016e59134019/d46d2d1100ed9a8f78c71e07365ad070.html?affid=2dba63bec709301650048b13f60d344d\n",
      "http://jobviewtrack.com/en-us/job-484f414c5e17000d4e1554066a120d0e004e00011a07284a4e5e4207060f531100100b080b091149071c68441e1f04/a1b3762b02f2bdbf17b2c4639ef66a76.html?affid=2dba63bec709301650048b13f60d344d\n",
      "http://jobviewtrack.com/en-us/job-484f414c5e17000d4e1554066a120d0e004e00011a07284a4e5e4207060f531100100b080b091149071c68441e1f04/8808e6e18e6a476e31b9bf751cdfd7a6.html?affid=2dba63bec709301650048b13f60d344d\n",
      "http://jobviewtrack.com/en-us/job-4e1d414f440b020f551f451148001d140459541b0a1a4f4549445e106d0f5407411a48050b11004c1b180416445f1d5e4e0d0a00531d53176a001d140a431d091d160a585e44480a1b075400000a01411d040c451a1c00005e0b542f4c171c0f5e5444061e040208154d11061d714e4e4b48410b1f03421a544309121d080649151c0c721d1f0914/d9ac2c03b11266220a2276b99743a77b.html?affid=2dba63bec709301650048b13f60d344d\n",
      "http://jobviewtrack.com/en-us/job-4e1d414f440b020f551f451148001d140459541b0a1a4f4549445e106d0f5407411a48050b11004c1b180416445f1d5e4e0d0a00531d53176a001d140a431d091d160a585e44480a1b075400000a01411d040c451a1c00005e0b542f4c171c0f5e5444061e040208154d11061d714e4e4b48410b1f03421a544309121d080649151c0c721d1f0914/d9ac2c03b11266220a2276b99743a77b.html?affid=2dba63bec709301650048b13f60d344d\n",
      "http://jobviewtrack.com/en-us/job-4f1a415e4e0d0a00531d53176a121c4716431d0d07074358492f420a0c014b1b471a6a120d0e004e00011a070a44534e420800095e765011010f0d0e154118481a10434e535944171b6f1040145a/9d6450339f843a61fd6b0144b596080f.html?affid=2dba63bec709301650048b13f60d344d\n",
      "http://jobviewtrack.com/en-us/job-1a1a415e4e0d0a00531d53176a111c0e0b431d18081f28584f0d5e07060b490049101c630b091f591907051c4d523f5d5f0d010d4e04410f48120d0e004e00011a072b1c091914/66df2cf4c50ded98df156f22c6433bdd.html?affid=2dba63bec709301650048b13f60d344d\n",
      "http://jobviewtrack.com/en-us/job-4813415f48170a0f5517484305000d0f0c4e114805164b59534443036d1c420745021a02064716431d0d07074358492f40050c064e1a454304040f150b491a0f490049425843590d1c1a250645100d001c040d00070b0016445f545e5944020f441c490d0d41020204521a01071428465c4e450d010b071845021a0f07090221435c5d4a/3ccb211a42c5a29fe8f33d9dfb90a1c5.html?affid=2dba63bec709301650048b13f60d344d\n",
      "http://jobviewtrack.com/en-us/job-4c1b415e4e0d0a00531d53176a0307080c4e12071b1e4b5f544e5e441c0d4e114e1701121a6507491b0107154559504c590d0c1d2643145751/278458a5e5dd6a2954c738aaea979e5d.html?affid=2dba63bec709301650048b13f60d344d\n",
      "http://jobviewtrack.com/en-us/job-4c1b415e4e0d0a00531d53176a0307080c4e12071b1e4b5f544e5e441c0d4e114e1701121a6507491b0107154559504c590d0c1d2643145751/a69d7078d4fdc07bee5447db7e644c50.html?affid=2dba63bec709301650048b13f60d344d\n",
      "http://jobviewtrack.com/en-us/job-1948414843030600421152610c001a066744151c08534f455a4443010a1c2643145751/cd9fc58396b85661a8fc8c4b619ba922.html?affid=2dba63bec709301650048b13f60d344d\n",
      "http://jobviewtrack.com/en-us/job-121f414c5e17000d4e1554066a130b140041060b01534b584e424e0d0e1a427652061b040f150648755f5d4713/309d378d4f01ba78de8494448253c2a6.html?affid=2dba63bec709301650048b13f60d344d\n"
     ]
    }
   ],
   "source": [
    "#for job, term, loc in all_results:\n",
    "#    print job['url']"
   ]
  },
  {
   "cell_type": "markdown",
   "metadata": {},
   "source": [
    "# Getting this to db"
   ]
  },
  {
   "cell_type": "code",
   "execution_count": 6,
   "metadata": {
    "collapsed": true
   },
   "outputs": [],
   "source": [
    "import warnings\n",
    "warnings.filterwarnings(\"error\")\n",
    "\n",
    "def removeNonAscii(s):\n",
    "    return \"\".join(i for i in s if ord(i)<128)"
   ]
  },
  {
   "cell_type": "code",
   "execution_count": 14,
   "metadata": {
    "collapsed": true
   },
   "outputs": [],
   "source": [
    "con = mdb.connect('localhost', 'root', '', 'job_profiler', autocommit=True,\n",
    "                 charset='utf8', use_unicode=True)\n",
    "cur = con.cursor()"
   ]
  },
  {
   "cell_type": "code",
   "execution_count": 7,
   "metadata": {
    "collapsed": false
   },
   "outputs": [
    {
     "name": "stdout",
     "output_type": "stream",
     "text": [
      "Finished! Inserted 959 rows into table.\n"
     ]
    }
   ],
   "source": [
    "query_base = \"INSERT INTO cj_jobs (salary, salary_min, title, company, locations, site, \\\n",
    "     salary_currency_code, date, salary_max, salary_type, q_term, q_location, url, first_seen, last_seen) \\\n",
    "     VALUES \\\n",
    "    (%s,%s,%s,%s,%s,%s,%s,%s,%s,%s,%s,%s,%s,%s,%s)\"\n",
    "\n",
    "# Count how many records inserted into SQL table\n",
    "count = 0\n",
    "\n",
    "today = time.strftime('%Y-%m-%d')\n",
    "\n",
    "\n",
    "for job, term, loc in all_results:\n",
    "    \n",
    "    try:\n",
    "        # Safety check inc ase any don't exist\n",
    "        url = job['url'] if 'url' in job else '' \n",
    "        cur.execute(\"SELECT pid FROM cj_jobs WHERE url = '%s'\" % url)\n",
    "        rows = cur.fetchall()\n",
    "        if rows:\n",
    "            cur.execute(\"UPDATE cj_jobs SET last_seen='%s' WHERE pid='%s'\" % (today,rows[0][0]))\n",
    "            continue\n",
    "\n",
    "        salary = job['salary'] if 'salary' in job else ''\n",
    "        salary_min = job['salary_min'] if 'salary_min' in job else ''\n",
    "        title = removeNonAscii(job['title'].encode('utf8', 'ignore')) if 'title' in job else ''\n",
    "        company = job['company'] if 'company' in job else ''\n",
    "        locations = job['locations'] if 'locations' in job else ''\n",
    "        site = job['site'] if 'site' in job else ''\n",
    "        salary_currency_code = job['salary_currency_code'] if 'salary_currency_code' in job else ''\n",
    "        salary_max = job['salary_max'] if 'salary_max' in job else ''\n",
    "        salary_type = job['salary_type'] if 'salary_type' in job else ''\n",
    "        date = job['date'] if 'date' in job else ''\n",
    "\n",
    "        # Convert date time\n",
    "        date = datetime.datetime.strptime(date, \n",
    "                                          '%a, %d %b %Y %H:%M:%S %Z').strftime('%Y-%m-%d')\n",
    "\n",
    "        # Construct query base\n",
    "        query_val = (salary, salary_min, title, \n",
    "                     company, locations, site,\n",
    "                     salary_currency_code, date, \n",
    "                     salary_max, salary_type, term, loc, url, today, today)\n",
    "\n",
    "        cur.execute(query_base, query_val)\n",
    "        count += 1\n",
    "        \n",
    "    except RuntimeWarning:\n",
    "        \n",
    "        print 'WARNING'\n",
    "    \n",
    "print \"Finished! Inserted %i rows into table.\" % count"
   ]
  },
  {
   "cell_type": "code",
   "execution_count": null,
   "metadata": {
    "collapsed": true
   },
   "outputs": [],
   "source": []
  }
 ],
 "metadata": {
  "kernelspec": {
   "display_name": "Python 2",
   "language": "python",
   "name": "python2"
  },
  "language_info": {
   "codemirror_mode": {
    "name": "ipython",
    "version": 2
   },
   "file_extension": ".py",
   "mimetype": "text/x-python",
   "name": "python",
   "nbconvert_exporter": "python",
   "pygments_lexer": "ipython2",
   "version": "2.7.10"
  }
 },
 "nbformat": 4,
 "nbformat_minor": 0
}
