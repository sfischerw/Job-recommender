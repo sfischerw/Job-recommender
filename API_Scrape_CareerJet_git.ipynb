{
 "cells": [
  {
   "cell_type": "code",
   "execution_count": 16,
   "metadata": {
    "collapsed": false
   },
   "outputs": [],
   "source": [
    "import datetime\n",
    "import time\n",
    "import urllib2\n",
    "from random import randint\n",
    "\n",
    "from careerjet_api_client import CareerjetAPIClient\n",
    "import pymysql as mdb\n",
    "from bs4 import BeautifulSoup"
   ]
  },
  {
   "cell_type": "code",
   "execution_count": null,
   "metadata": {
    "collapsed": true
   },
   "outputs": [],
   "source": [
    "# Create table for job descriptions"
   ]
  },
  {
   "cell_type": "raw",
   "metadata": {},
   "source": [
    "con = mdb.connect('localhost', 'root', '', 'job_profiler', autocommit=True,\n",
    "                 charset='utf8', use_unicode=True)\n",
    "cur = con.cursor()\n",
    "\n",
    "cur.execute(\"DROP TABLE IF EXISTS cj_job_descriptions\")\n",
    "cur.execute(\"\"\"\n",
    "CREATE TABLE cj_job_descriptions\n",
    "(id INT,\n",
    "html_text TEXT,\n",
    "job_text TEXT,\n",
    "url VARCHAR(600) )\n",
    "\"\"\")"
   ]
  },
  {
   "cell_type": "code",
   "execution_count": 17,
   "metadata": {
    "collapsed": true
   },
   "outputs": [],
   "source": [
    "# Query jobs for their URL and id\n",
    "con = mdb.connect('localhost', 'root', '', 'job_profiler', autocommit=True,\n",
    "                 charset='utf8', use_unicode=True)\n",
    "cur = con.cursor()\n",
    "\n",
    "cur.execute(\"\"\"SELECT pid, url FROM cj_jobs WHERE first_seen > '2016-01-04' AND q_location NOT IN\n",
    "            ('san francisco', 'san jose') AND q_term IN (\n",
    "                  'data scientist', \n",
    "                  'cognitive',\n",
    "                  'user research',\n",
    "                  'user researcher',\n",
    "                  'user experience',\n",
    "                  'ux',\n",
    "                  'human computer interaction',\n",
    "                  'HCI', \n",
    "                  'human factor engineer', \n",
    "                  'human factor engineering',\n",
    "                  'usability',\n",
    "                  'quantitative researcher',\n",
    "                  'quantitative research',\n",
    "                  'human factors')\"\"\")\n",
    "\n",
    "origin_rows = cur.fetchall()"
   ]
  },
  {
   "cell_type": "code",
   "execution_count": 18,
   "metadata": {
    "collapsed": false
   },
   "outputs": [
    {
     "data": {
      "text/plain": [
       "939"
      ]
     },
     "execution_count": 18,
     "metadata": {},
     "output_type": "execute_result"
    }
   ],
   "source": [
    "len(origin_rows)"
   ]
  },
  {
   "cell_type": "code",
   "execution_count": 19,
   "metadata": {
    "collapsed": true
   },
   "outputs": [],
   "source": [
    "import warnings\n",
    "warnings.filterwarnings(\"error\")\n",
    "\n",
    "def removeNonAscii(s):\n",
    "    return \"\".join(i for i in s if ord(i)<128)"
   ]
  },
  {
   "cell_type": "code",
   "execution_count": null,
   "metadata": {
    "collapsed": false,
    "scrolled": false
   },
   "outputs": [],
   "source": [
    "# affid saved in a text file\n",
    "id_file = open('resources/careerjet_affid.txt')\n",
    "my_id = id_file.readline()\n",
    "my_id = my_id.strip()\n",
    "\n",
    "# Append this to the URL\n",
    "affid_q = '?affid='+my_id\n",
    "\n",
    "q_base = \"INSERT INTO cj_job_descriptions (id, html_text, job_text, url) \\\n",
    "     VALUES \\\n",
    "    (%s,%s,%s,%s)\"\n",
    "\n",
    "count = 0\n",
    "\n",
    "print \"Processing %i rows...\" % len(origin_rows)\n",
    "\n",
    "for pid, url in origin_rows:\n",
    "    \n",
    "    # Check that ID is not already in table\n",
    "    cur.execute(\"SELECT * FROM cj_job_descriptions WHERE id = %s\" % pid)\n",
    "    rows = cur.fetchall()\n",
    "    # If so, skip this job\n",
    "    if rows:\n",
    "        #print \"Record exists\"\n",
    "        continue\n",
    "    \n",
    "    # \"API courtesy\"\n",
    "    time.sleep(randint(1,2))\n",
    "    \n",
    "    try:\n",
    "        # Read the URL\n",
    "        page = urllib2.urlopen(url).read() \n",
    "    except Exception:\n",
    "        print \"Skipping\"\n",
    "        continue\n",
    "        \n",
    "    # Split on URL key\n",
    "    page = page.split(\"URL=\")\n",
    "    # target URL is at beginning of second element in list\n",
    "    if len(page) == 1:\n",
    "        continue\n",
    "    page = page[1].split('\">\\n<')[0]\n",
    "    # Append affid to get a careerjet URL (otherwise redirects)\n",
    "    reurl = urllib2.urlopen(page+affid_q).read()\n",
    "    soup = BeautifulSoup(reurl, \"lxml\")\n",
    "    result = soup.find(\"div\", {\"class\": \"advertise_compact\"})\n",
    "    \n",
    "    # Scrub, take care of unicode\n",
    "    \n",
    "    #clean_html = str(result)\n",
    "    clean_html = removeNonAscii(result.text.encode('utf8', 'ignore'))\n",
    "    clean_html = clean_html.replace('\"', r'\\\"')\n",
    "    clean_html = clean_html.replace(\"'\", r\"\\'\")\n",
    "    #clean_text = result.text.encode('utf-8')   # properly encode unicode\n",
    "    clean_text = removeNonAscii(result.text.encode('utf8', 'ignore'))\n",
    "    clean_text = clean_text.replace('\"', r'\\\"')\n",
    "    clean_text = clean_text.replace(\"'\", r\"\\'\")\n",
    "    \n",
    "    # Insert into table\n",
    "    q_val = (pid, clean_html, clean_text, str(page+affid_q))\n",
    "    cur.execute(q_base, q_val)\n",
    "    \n",
    "    count += 1\n",
    "    \n",
    "    print count, (pid, clean_html[:20], clean_text[:20], str(page+affid_q))\n",
    "    \n",
    "    if count%10 == 0:\n",
    "        print \"Waiting 5 secs...\"\n",
    "        time.sleep(1)\n",
    "        #print \"Resuming\"\n",
    "    if count%50 == 0:\n",
    "        print \"Stored %i out of %i...\" % (count, len(origin_rows))\n",
    "\n",
    "print \"Done\", count"
   ]
  },
  {
   "cell_type": "code",
   "execution_count": 6,
   "metadata": {
    "collapsed": false
   },
   "outputs": [
    {
     "data": {
      "text/plain": [
       "u'http://jobviewtrack.com/en-us/job-4c1c415e4e0d0a00531d53176a121c4716431d0d07074358492f5d0c0e1c4a15430c030800021149171b6b03424a4f404c0700054e1a451701021d4716431d0d07074358492c1a515c5d/c6da6aa628d5b901a2baad532e6aee98.html?affid=2dba63bec709301650048b13f60d344d'"
      ]
     },
     "execution_count": 6,
     "metadata": {},
     "output_type": "execute_result"
    }
   ],
   "source": [
    "url\n"
   ]
  },
  {
   "cell_type": "code",
   "execution_count": null,
   "metadata": {
    "collapsed": true
   },
   "outputs": [],
   "source": []
  }
 ],
 "metadata": {
  "kernelspec": {
   "display_name": "Python 2",
   "language": "python",
   "name": "python2"
  },
  "language_info": {
   "codemirror_mode": {
    "name": "ipython",
    "version": 2
   },
   "file_extension": ".py",
   "mimetype": "text/x-python",
   "name": "python",
   "nbconvert_exporter": "python",
   "pygments_lexer": "ipython2",
   "version": "2.7.10"
  }
 },
 "nbformat": 4,
 "nbformat_minor": 0
}
