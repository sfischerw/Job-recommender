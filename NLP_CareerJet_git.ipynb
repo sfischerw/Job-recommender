{
 "cells": [
  {
   "cell_type": "markdown",
   "metadata": {},
   "source": [
    "pip install careerjet_api_client\n",
    "\n",
    "https://github.com/careerjet/careerjet-api-client-python "
   ]
  },
  {
   "cell_type": "code",
   "execution_count": 1,
   "metadata": {
    "collapsed": false
   },
   "outputs": [],
   "source": [
    "from random import randint\n",
    "\n",
    "import pymysql as mdb\n",
    "from bs4 import BeautifulSoup\n",
    "import pandas as pd\n",
    "from sklearn.feature_extraction.text import CountVectorizer\n",
    "from sklearn.feature_extraction.text import TfidfTransformer\n",
    "from sklearn import decomposition\n",
    "from sklearn.neighbors import NearestNeighbors\n",
    "from sklearn.pipeline import Pipeline\n",
    "from sklearn.base import TransformerMixin\n",
    "\n",
    "\n",
    "import matplotlib.pyplot as plt\n",
    "import numpy as np\n",
    "from nltk.corpus import stopwords\n",
    "from nltk.stem.snowball import SnowballStemmer\n",
    "\n",
    "%matplotlib inline"
   ]
  },
  {
   "cell_type": "code",
   "execution_count": 2,
   "metadata": {
    "collapsed": true
   },
   "outputs": [],
   "source": [
    "#id, html_text, job_text, url\n",
    "\n",
    "# Query jobs for their URL and id\n",
    "con = mdb.connect('localhost', 'root', '', 'job_profiler', autocommit=True,\n",
    "                 charset='utf8', use_unicode=True)\n",
    "\n",
    "sql_selecta = 'SELECT job_text, html_text FROM cj_job_descriptions'"
   ]
  },
  {
   "cell_type": "code",
   "execution_count": 3,
   "metadata": {
    "collapsed": false
   },
   "outputs": [],
   "source": [
    "data = pd.read_sql_query(sql_selecta, con)\n",
    "\n",
    "text = data['job_text'].tolist()\n",
    "html = data['html_text'].tolist()"
   ]
  },
  {
   "cell_type": "markdown",
   "metadata": {},
   "source": [
    "### Clean and normalize the text"
   ]
  },
  {
   "cell_type": "code",
   "execution_count": 4,
   "metadata": {
    "collapsed": true
   },
   "outputs": [],
   "source": [
    "# Use NLTK to stem words\n",
    "def i_scrub(t):\n",
    "    \n",
    "    stemmer = SnowballStemmer(\"english\")\n",
    "    #Various scrubs\n",
    "    new_t = t.lower()\n",
    "    new_t = ''.join(c for c in new_t if c not in '(){}<>\\'\"\\\\.,?*:;&!@#^[]')\n",
    "    new_t = new_t.replace('-',' ')\n",
    "    new_t = new_t.replace('/',' ')\n",
    "    new_t_list = [word for word in new_t.split() if word not in (stopwords.words('english'))]\n",
    "    new_t = ' '.join([stemmer.stem(token) for token in new_t_list])\n",
    "    return new_t"
   ]
  },
  {
   "cell_type": "code",
   "execution_count": 5,
   "metadata": {
    "collapsed": false
   },
   "outputs": [
    {
     "data": {
      "text/plain": [
       "1239"
      ]
     },
     "execution_count": 5,
     "metadata": {},
     "output_type": "execute_result"
    }
   ],
   "source": [
    "corpus = []\n",
    "\n",
    "for t in text:\n",
    "    corpus.append(i_scrub(t))\n",
    "\n",
    "len(corpus)"
   ]
  },
  {
   "cell_type": "markdown",
   "metadata": {},
   "source": [
    "### Vectorize the text"
   ]
  },
  {
   "cell_type": "code",
   "execution_count": 6,
   "metadata": {
    "collapsed": false
   },
   "outputs": [
    {
     "name": "stdout",
     "output_type": "stream",
     "text": [
      "Unique tokens: 4501\n"
     ]
    }
   ],
   "source": [
    "# Create vectorizer object\n",
    "vectorizer = CountVectorizer(min_df=3) # default min doc freq = 1\n",
    "# Create vector representation of the corpus\n",
    "vectorizer.fit(corpus)\n",
    "\n",
    "print \"Unique tokens:\", len(vectorizer.get_feature_names())\n",
    "#print vectorizer.get_feature_names()[400:510]"
   ]
  },
  {
   "cell_type": "code",
   "execution_count": 7,
   "metadata": {
    "collapsed": false
   },
   "outputs": [
    {
     "data": {
      "text/plain": [
       "(1239, 4501)"
      ]
     },
     "execution_count": 7,
     "metadata": {},
     "output_type": "execute_result"
    }
   ],
   "source": [
    "# Transform the corpus with the model\n",
    "X = vectorizer.transform(corpus)\n",
    "X.toarray().shape"
   ]
  },
  {
   "cell_type": "markdown",
   "metadata": {},
   "source": [
    "### Tfidf Transformation"
   ]
  },
  {
   "cell_type": "code",
   "execution_count": 8,
   "metadata": {
    "collapsed": false
   },
   "outputs": [
    {
     "data": {
      "text/plain": [
       "TfidfTransformer(norm=u'l2', smooth_idf=True, sublinear_tf=False,\n",
       "         use_idf=True)"
      ]
     },
     "execution_count": 8,
     "metadata": {},
     "output_type": "execute_result"
    }
   ],
   "source": [
    "# Create tf-idf object\n",
    "transformer = TfidfTransformer()\n",
    "# Fit the model to the data\n",
    "transformer.fit(X)"
   ]
  },
  {
   "cell_type": "code",
   "execution_count": 9,
   "metadata": {
    "collapsed": false
   },
   "outputs": [],
   "source": [
    "# Transform the term-document matrix\n",
    "tfidf = transformer.transform(X) # this preserves X (no tf-idf)"
   ]
  },
  {
   "cell_type": "markdown",
   "metadata": {},
   "source": [
    "### Dimension Reduction (PCA)"
   ]
  },
  {
   "cell_type": "code",
   "execution_count": 10,
   "metadata": {
    "collapsed": false
   },
   "outputs": [
    {
     "data": {
      "text/plain": [
       "PCA(copy=True, n_components=None, whiten=False)"
      ]
     },
     "execution_count": 10,
     "metadata": {},
     "output_type": "execute_result"
    }
   ],
   "source": [
    "# Create PCA object\n",
    "pca = decomposition.PCA() \n",
    "pca.fit(tfidf.toarray()) # Fit doesn't transform old data"
   ]
  },
  {
   "cell_type": "code",
   "execution_count": 11,
   "metadata": {
    "collapsed": false
   },
   "outputs": [
    {
     "data": {
      "image/png": "[encoded data removed]",
      "text/plain": [
       "<matplotlib.figure.Figure at 0x1029f56d0>"
      ]
     },
     "metadata": {},
     "output_type": "display_data"
    }
   ],
   "source": [
    "# Quick look to determine number of components to retain\n",
    "plt.figure(1, figsize=(5, 4))\n",
    "plt.plot(np.cumsum(pca.explained_variance_ratio_), linewidth=2)\n",
    "plt.axis('tight')\n",
    "plt.xlabel('n_components')\n",
    "plt.ylabel('explained_variance_')\n",
    "plt.show()"
   ]
  },
  {
   "cell_type": "code",
   "execution_count": 12,
   "metadata": {
    "collapsed": false
   },
   "outputs": [
    {
     "data": {
      "text/plain": [
       "PCA(copy=True, n_components=200, whiten=False)"
      ]
     },
     "execution_count": 12,
     "metadata": {},
     "output_type": "execute_result"
    }
   ],
   "source": [
    "# Keep 200 components (about 80% explained variance)\n",
    "pca_reduce = decomposition.PCA(n_components=200) \n",
    "pca_reduce.fit(tfidf.toarray()) # Fit doesn't transform old data"
   ]
  },
  {
   "cell_type": "code",
   "execution_count": 13,
   "metadata": {
    "collapsed": false
   },
   "outputs": [
    {
     "data": {
      "image/png": "[encoded data removed]",
      "text/plain": [
       "<matplotlib.figure.Figure at 0x1029f5210>"
      ]
     },
     "metadata": {},
     "output_type": "display_data"
    }
   ],
   "source": [
    "plt.figure(1, figsize=(5, 4))\n",
    "plt.plot(np.cumsum(pca_reduce.explained_variance_ratio_), linewidth=2)\n",
    "plt.axis('tight')\n",
    "plt.xlabel('n_components')\n",
    "plt.ylabel('explained_variance_')\n",
    "plt.show()"
   ]
  },
  {
   "cell_type": "code",
   "execution_count": 14,
   "metadata": {
    "collapsed": false
   },
   "outputs": [
    {
     "data": {
      "text/plain": [
       "(1239, 200)"
      ]
     },
     "execution_count": 14,
     "metadata": {},
     "output_type": "execute_result"
    }
   ],
   "source": [
    "# Transform tfidf representation into 200-D space\n",
    "X_red = pca_reduce.transform(tfidf.toarray())\n",
    "X_red.shape"
   ]
  },
  {
   "cell_type": "code",
   "execution_count": 15,
   "metadata": {
    "collapsed": false
   },
   "outputs": [
    {
     "data": {
      "text/plain": [
       "array([-0.00029252,  0.00041318, -0.00106184, ..., -0.00103459,\n",
       "       -0.00039175, -0.00063866])"
      ]
     },
     "execution_count": 15,
     "metadata": {},
     "output_type": "execute_result"
    }
   ],
   "source": [
    "# For each component (topic), take abs val of the coeffs and sort \n",
    "# Get index of the largest 10 words and find corresponding word in vectorizer dict\n",
    "pca_reduce.components_[0]"
   ]
  },
  {
   "cell_type": "markdown",
   "metadata": {
    "collapsed": false
   },
   "source": [
    "### k-Nearest Neighbors Model"
   ]
  },
  {
   "cell_type": "code",
   "execution_count": 16,
   "metadata": {
    "collapsed": false
   },
   "outputs": [
    {
     "data": {
      "text/plain": [
       "NearestNeighbors(algorithm='auto', leaf_size=30, metric='minkowski',\n",
       "         metric_params=None, n_neighbors=5, p=2, radius=1.0)"
      ]
     },
     "execution_count": 16,
     "metadata": {},
     "output_type": "execute_result"
    }
   ],
   "source": [
    "# Create kNN model\n",
    "nbrs = NearestNeighbors(n_neighbors=5, algorithm='auto')\n",
    "# Fit to data\n",
    "nbrs.fit(X_red)"
   ]
  },
  {
   "cell_type": "code",
   "execution_count": 17,
   "metadata": {
    "collapsed": false
   },
   "outputs": [],
   "source": [
    "distances, indices = nbrs.kneighbors(X_red)"
   ]
  },
  {
   "cell_type": "code",
   "execution_count": 18,
   "metadata": {
    "collapsed": false
   },
   "outputs": [
    {
     "data": {
      "text/plain": [
       "array([  0, 260, 937, 740, 148])"
      ]
     },
     "execution_count": 18,
     "metadata": {},
     "output_type": "execute_result"
    }
   ],
   "source": [
    "indices[0]"
   ]
  },
  {
   "cell_type": "code",
   "execution_count": 19,
   "metadata": {
    "collapsed": false
   },
   "outputs": [
    {
     "data": {
      "text/plain": [
       "array([ 0.        ,  0.65769317,  0.66235423,  0.70499263,  0.70619805])"
      ]
     },
     "execution_count": 19,
     "metadata": {},
     "output_type": "execute_result"
    }
   ],
   "source": [
    "distances[0] #[100]"
   ]
  },
  {
   "cell_type": "code",
   "execution_count": 20,
   "metadata": {
    "collapsed": false
   },
   "outputs": [],
   "source": [
    "#for i in [0, 260, 937, 740, 148]:\n",
    "#    print text[i], '\\n'"
   ]
  },
  {
   "cell_type": "code",
   "execution_count": 21,
   "metadata": {
    "collapsed": false
   },
   "outputs": [],
   "source": [
    "# Check w/ an existing job\n",
    "new_text = text[88]\n",
    "processed_text = [i_scrub(new_text),]"
   ]
  },
  {
   "cell_type": "code",
   "execution_count": 22,
   "metadata": {
    "collapsed": false
   },
   "outputs": [],
   "source": [
    "class toArray(TransformerMixin):\n",
    "\n",
    "    def transform(self, X, y=None, **fit_params):\n",
    "        return X.toarray()"
   ]
  },
  {
   "cell_type": "code",
   "execution_count": 23,
   "metadata": {
    "collapsed": false
   },
   "outputs": [],
   "source": [
    "data_pipe = Pipeline(steps=[('vectorizer', vectorizer),\n",
    "                            ('transformer', transformer), \n",
    "                            ('to_dense', toArray()), \n",
    "                            ('pca_reduce', pca_reduce),\n",
    "                           ])"
   ]
  },
  {
   "cell_type": "code",
   "execution_count": 24,
   "metadata": {
    "collapsed": false
   },
   "outputs": [
    {
     "data": {
      "text/plain": [
       "(1, 200)"
      ]
     },
     "execution_count": 24,
     "metadata": {},
     "output_type": "execute_result"
    }
   ],
   "source": [
    "X_new = data_pipe.transform(processed_text)\n",
    "X_new.shape"
   ]
  },
  {
   "cell_type": "code",
   "execution_count": 25,
   "metadata": {
    "collapsed": false
   },
   "outputs": [],
   "source": [
    "distances, indices = nbrs.kneighbors(X_new)"
   ]
  },
  {
   "cell_type": "code",
   "execution_count": 26,
   "metadata": {
    "collapsed": false
   },
   "outputs": [
    {
     "data": {
      "text/plain": [
       "array([[  1.76636029e-15,   6.41813163e-02,   7.75279578e-02,\n",
       "          1.39992271e-01,   3.29849787e-01]])"
      ]
     },
     "execution_count": 26,
     "metadata": {},
     "output_type": "execute_result"
    }
   ],
   "source": [
    "distances"
   ]
  },
  {
   "cell_type": "code",
   "execution_count": 27,
   "metadata": {
    "collapsed": false
   },
   "outputs": [
    {
     "data": {
      "text/plain": [
       "array([[88, 89, 91, 90, 66]])"
      ]
     },
     "execution_count": 27,
     "metadata": {},
     "output_type": "execute_result"
    }
   ],
   "source": [
    "indices"
   ]
  },
  {
   "cell_type": "markdown",
   "metadata": {
    "collapsed": true
   },
   "source": [
    "# Input"
   ]
  },
  {
   "cell_type": "raw",
   "metadata": {},
   "source": [
    "new_profile = 'The Quantitative Research Analyst is responsible for managing and analyzing data for research \\\n",
    "projects in the following topic areas: comparative effectiveness of health care delivery and clinical \\\n",
    "interventions, evaluation of policy impact or organizational interventions, epidemiological research using\\\n",
    "observational data, assessing practice variation, and assessing clinical quality and patient-centered care\\\n",
    ". These research projects typically use data from the electronic health records.  In addition, the analyst \\\n",
    "occasionally participates in the design and dissemination of research studies in which s/he is involved.\\\n",
    "Qualifications Required: Masters; PhD preferred. Minimum experience of 1 year in performing multiple types\\\n",
    "    of analysis using observational research data sets, including electronic health records and/or claims \\\n",
    "    data; 3+  years of experience preferred,  particularly in analysis of data from both ambulatory and \\\n",
    "    hospital settings. Fluency in spoken and written English in order to communicate effectively with lay and\\\n",
    "    professional audiences Demonstrated ability to handle multiple projects concurrently and meet project deadlines\\\n",
    "Track record of executing projects and demonstrated in-depth, hands-on usage of statistical analysis software \\\n",
    "applications Significant knowledge of various statistical software packages, through practical application \\\n",
    "of managing and analyzing observational research datasets; familiarity with health care system data is preferred\\\n",
    "Ability to manage and analyze complex health care data Technical proficiency with software for data management\\\n",
    "(i.e., SQL) and statistical analysis (i.e., SAS, STATA, and/or R) as well as with Microsoft Office Suite \\\n",
    "(i.e., Word, Excel, and PowerPoint). Strong problem-solving skills, a high level of organization and \\\n",
    "attention to detail ability to define and address research questions, in collaboration with \\\n",
    "Principal Investigator and research teamGeneral knowledge of health care delivery framework is preferred.'"
   ]
  },
  {
   "cell_type": "markdown",
   "metadata": {
    "collapsed": true
   },
   "source": [
    "new_profile = str(\"The User Experience Researcher develops original insights to shape the direction of products through identifying and understanding our user needs. This role will be responsible for conducting all user research including field research, online surveys, user panels, and usability studies. This role supports our product development and product marketing efforts by facilitating an ongoing dialogue with our members.\")"
   ]
  },
  {
   "cell_type": "markdown",
   "metadata": {},
   "source": [
    "new_profile = ('''UX Researchers strive to learn what they need and want from our \n",
    "products and services. As a UX Researcher, You conduct independent research, analyze real \n",
    "user behavior and work with User Interface Designers, Products Manager and Engineers to improve \n",
    "our product features and develop new ones. Your work spans across all of Google's products, and you \n",
    "are encouraged to identify new opportunities for user experience improvements. We strive to the connect\n",
    "users to the magic of our products, and your job is to make that connection intuitive and accessible.\n",
    "You determine and evaluate features contributing to user experience. You conduct research, identify product \n",
    "and customer requirements and evaluate the user experience.\n",
    "We follow a simple but vital premise in the User Experience group: \"Focus on the user and all else will follow.\" \n",
    "We're interested in our users and strive to learn everything we can about their behaviors, attitudes \n",
    "and emotions to help define the products and experiences we create. The User Experience team is a critical \n",
    "driving force behind gathering these insights and then using them to inspire and inform design. We are a \n",
    "multi-disciplinary team of interaction designers, visual designers, user researchers, content strategists \n",
    "and web developers who collaborate closely with each other and with engineering and product management to create\n",
    "innovative, usable, great-looking products that people love to use.\n",
    "Work with engineering and product teams to help define user experience goals and metrics.\n",
    "Identify quantitative markers of user experience.\n",
    "Help drive change by communicating findings to stakeholders in the company\n",
    "BA/BS degree in Computer Science, Human-Computer Interaction, Statistics, Psychology, related field or equivalent practical experience.\n",
    "2 years of experience in an applied research setting.\n",
    "5 years of relevant work experience.\n",
    "Track record demonstrating excellent command of the research questions within a given domain, and of the technical tools for the analysis of data related to those questions.\n",
    "Excellent working knowledge of statistics and the principles of experiment design.\n",
    "''')"
   ]
  },
  {
   "cell_type": "code",
   "execution_count": 123,
   "metadata": {
    "collapsed": true
   },
   "outputs": [],
   "source": [
    "new_profile = (\n",
    "\"\"\"We're a fast growing startup in our 7th year of business, with campuses in Mountain View and San Francisco. \n",
    "We make it easy for businesses to understand how customers interact with their digital properties so that \n",
    "they can improve their customer experience. We do this by giving companies on-demand access to people in \n",
    "their exact target market who deliver video, audio, and written feedback on websites, mobile apps, and prototypes.\n",
    "Over 30,000 companies, including Google, Facebook, CBS, Apple, and The Home Depot, use UserTesting to improve \n",
    "their user experience and their bottom line.\n",
    "What makes the difference between a website or app that's engaging, compelling, and easy to use and one \n",
    "that's frustrating, broken, and complicated? The answer is user experience. Here at UserTesting, our mission\n",
    "is to help the world create great customer experiences. Watch this video to learn more about what we do\n",
    "The Opportunity\n",
    "\n",
    "Integral to the role is your curiosity, deep analytic instinct, and your ability to design, create, \n",
    "implement, synthesize, and communicate quantitative and qualitative research using a variety of data. \n",
    "You'll have an opportunity to interact directly with our Product and Service teams, including User Experience \n",
    "Testing experts, to surface critical topics, identify innovative practices, and develop high-impact solutions \n",
    "that advance the state-of-the-art in User Experience Research and our ability to provide this research at scale \n",
    "by making it so fast and easy anyone can do it.\n",
    "\n",
    "In this unique role, you will design and perform research that fuels our strategy and thought leadership \n",
    "around making User Experience Testing easy, fast and effective. To accomplish this goal, this role will \n",
    "require a wide range of analytic abilities and techniques. \n",
    "\n",
    "A given day could have you doing Machine Learning, A/B Experimentation, Statistical Inference, Natural \n",
    "Language Processing, Demographic Research, Data Visualization, Application Development, Creating new \n",
    "data products, or anything else that helps us understand how to better deliver exceptional User Experience\n",
    "Insights to anyone looking to make their portion of the web a better place.\n",
    "\n",
    "Specific Responsibilities\n",
    "\n",
    "Design, lead, and manage research projects to understand how Qualitative User Experience Research is \n",
    "done and create actionable insights to improve the state-of-the-art in remote usability research.\n",
    "Work with internal Product and Service teams to identify key metrics and levers that will grow our business \n",
    "and our ability to make User Experience Research fast, easy, and effective.\n",
    "Apply strong expertise in statistics and data mining to explore the impact of various product features \n",
    "and business practices on operational and customer outcomes.\n",
    "See beyond the numbers to identify findings of strategic importance to UserTesting and practical value\n",
    "to customers conducting and performing User Experience Research.\n",
    "Communicate analyses and results in ways that are accessible, relevant, and meaningful to a business audience.\n",
    "Create and support a data-driven culture among company decision makers.\n",
    "Qualifications\n",
    "Master's degree or PhD in an analytic field that uses advanced analytics to understand human behavior: \n",
    "Psychology, Economics, Sociology, Psychology. Engineering, Statistics and similar degrees welcome\n",
    "Experience in software development or coding with data/statistical packages (eg. SQL/Hive, Pig, Python \n",
    "(Pandas + Statsmodels + Scikit-learn), Julia, D3.js, R)\n",
    "Expertise in one or more of the following: Natural Language Processing, Information Retrieval, Data \n",
    "Visualization, Deep Learning, Social Network Analysis, User Experience/Qualitative Research, Hadoop, \n",
    "Web Application Development, Demographics, Survey Methodology\n",
    "Strong working knowledge of research methodology and statistical techniques including experimentation,\n",
    "statistical inference and machine learning\n",
    "Experience performing advanced data analytics in a business, academic, or related context (e.g., high-tech, \n",
    "market research, management consulting, operations research, finance, etc.)\n",
    "Ability to explain value of different analytic methods, and the output of data analyses, to non-technical \n",
    "audiences, including executives and managers\n",
    "Big picture perspective and a healthy obsession with detail\n",
    "Deep curiosity and love of problem solving\n",
    "Besides a great work environment and the opportunity to change the world, we offer competitive salary, \n",
    "benefits, plenty of perks, as well as stock options.\n",
    "\"\"\" \n",
    ")"
   ]
  },
  {
   "cell_type": "code",
   "execution_count": 124,
   "metadata": {
    "collapsed": false
   },
   "outputs": [
    {
     "name": "stdout",
     "output_type": "stream",
     "text": [
      "We're a fast growing startup in our 7th year of business, with campuses in Mountain View and San Francisco. \n",
      "We make it easy for businesses to understand how customers interact with their digital properties so that \n",
      "they can improve their customer experience. We do this by giving companies on-demand access to people in \n",
      "their exact target market who deliver video, audio, and written feedback on websites, mobile apps, and prototypes.\n",
      "Over 30,000 companies, including Google, Facebook, CBS, Apple, and The Home Depot, use UserTesting to improve \n",
      "their user experience and their bottom line.\n",
      "What makes the difference between a website or app that's engaging, compelling, and easy to use and one \n",
      "that's frustrating, broken, and complicated? The answer is user experience. Here at UserTesting, our mission\n",
      "is to help the world create great customer experiences. Watch this video to learn more about what we do\n",
      "The Opportunity\n",
      "\n",
      "Integral to the role is your curiosity, deep analytic instinct, and your ability to design, create, \n",
      "implement, synthesize, and communicate quantitative and qualitative research using a variety of data. \n",
      "You'll have an opportunity to interact directly with our Product and Service teams, including User Experience \n",
      "Testing experts, to surface critical topics, identify innovative practices, and develop high-impact solutions \n",
      "that advance the state-of-the-art in User Experience Research and our ability to provide this research at scale \n",
      "by making it so fast and easy anyone can do it.\n",
      "\n",
      "In this unique role, you will design and perform research that fuels our strategy and thought leadership \n",
      "around making User Experience Testing easy, fast and effective. To accomplish this goal, this role will \n",
      "require a wide range of analytic abilities and techniques. \n",
      "\n",
      "A given day could have you doing Machine Learning, A/B Experimentation, Statistical Inference, Natural \n",
      "Language Processing, Demographic Research, Data Visualization, Application Development, Creating new \n",
      "data products, or anything else that helps us understand how to better deliver exceptional User Experience\n",
      "Insights to anyone looking to make their portion of the web a better place.\n",
      "\n",
      "Specific Responsibilities\n",
      "\n",
      "Design, lead, and manage research projects to understand how Qualitative User Experience Research is \n",
      "done and create actionable insights to improve the state-of-the-art in remote usability research.\n",
      "Work with internal Product and Service teams to identify key metrics and levers that will grow our business \n",
      "and our ability to make User Experience Research fast, easy, and effective.\n",
      "Apply strong expertise in statistics and data mining to explore the impact of various product features \n",
      "and business practices on operational and customer outcomes.\n",
      "See beyond the numbers to identify findings of strategic importance to UserTesting and practical value\n",
      "to customers conducting and performing User Experience Research.\n",
      "Communicate analyses and results in ways that are accessible, relevant, and meaningful to a business audience.\n",
      "Create and support a data-driven culture among company decision makers.\n",
      "Qualifications\n",
      "Master's degree or PhD in an analytic field that uses advanced analytics to understand human behavior: \n",
      "Psychology, Economics, Sociology, Psychology. Engineering, Statistics and similar degrees welcome\n",
      "Experience in software development or coding with data/statistical packages (eg. SQL/Hive, Pig, Python \n",
      "(Pandas + Statsmodels + Scikit-learn), Julia, D3.js, R)\n",
      "Expertise in one or more of the following: Natural Language Processing, Information Retrieval, Data \n",
      "Visualization, Deep Learning, Social Network Analysis, User Experience/Qualitative Research, Hadoop, \n",
      "Web Application Development, Demographics, Survey Methodology\n",
      "Strong working knowledge of research methodology and statistical techniques including experimentation,\n",
      "statistical inference and machine learning\n",
      "Experience performing advanced data analytics in a business, academic, or related context (e.g., high-tech, \n",
      "market research, management consulting, operations research, finance, etc.)\n",
      "Ability to explain value of different analytic methods, and the output of data analyses, to non-technical \n",
      "audiences, including executives and managers\n",
      "Big picture perspective and a healthy obsession with detail\n",
      "Deep curiosity and love of problem solving\n",
      "Besides a great work environment and the opportunity to change the world, we offer competitive salary, \n",
      "benefits, plenty of perks, as well as stock options.\n",
      "\n"
     ]
    }
   ],
   "source": [
    "print new_profile"
   ]
  },
  {
   "cell_type": "code",
   "execution_count": 125,
   "metadata": {
    "collapsed": false
   },
   "outputs": [
    {
     "name": "stdout",
     "output_type": "stream",
     "text": [
      "[u'fast grow startup 7th year busi campus mountain view san francisco make easi busi understand custom interact digit properti improv custom experi give compani demand access peopl exact target market deliv video audio written feedback websit mobil app prototyp 30000 compani includ googl facebook cbs appl home depot use usertest improv user experi bottom line make differ websit app that engag compel easi use one that frustrat broken complic answer user experi usertest mission help world creat great custom experi watch video learn opportun integr role curios deep analyt instinct abil design creat implement synthes communic quantit qualit research use varieti data youll opportun interact direct product servic team includ user experi test expert surfac critic topic identifi innov practic develop high impact solut advanc state art user experi research abil provid research scale make fast easi anyon uniqu role design perform research fuel strategi thought leadership around make user experi test easi fast effect accomplish goal role requir wide rang analyt abil techniqu given day could machin learn b experiment statist infer natur languag process demograph research data visual applic develop creat new data product anyth els help us understand better deliv except user experi insight anyon look make portion web better place specif respons design lead manag research project understand qualit user experi research done creat action insight improv state art remot usabl research work intern product servic team identifi key metric lever grow busi abil make user experi research fast easi effect appli strong expertis statist data mine explor impact various product featur busi practic oper custom outcom see beyond number identifi find strateg import usertest practic valu custom conduct perform user experi research communic analys result way access relev meaning busi audienc creat support data driven cultur among compani decis maker qualif master degre phd analyt field use advanc analyt understand human behavior psycholog econom sociolog psycholog engin statist similar degre welcom experi softwar develop code data statist packag eg sql hive pig python panda + statsmodel + scikit learn julia d3js r expertis one follow natur languag process inform retriev data visual deep learn social network analysi user experi qualit research hadoop web applic develop demograph survey methodolog strong work knowledg research methodolog statist techniqu includ experiment statist infer machin learn experi perform advanc data analyt busi academ relat context eg high tech market research manag consult oper research financ etc abil explain valu differ analyt method output data analys non technic audienc includ execut manag big pictur perspect healthi obsess detail deep curios love problem solv besid great work environ opportun chang world offer competit salari benefit plenti perk well stock option']\n"
     ]
    }
   ],
   "source": [
    "new_q = [i_scrub(new_profile),]\n",
    "print new_q"
   ]
  },
  {
   "cell_type": "code",
   "execution_count": 126,
   "metadata": {
    "collapsed": true
   },
   "outputs": [],
   "source": [
    "X_new = data_pipe.transform(new_q)"
   ]
  },
  {
   "cell_type": "code",
   "execution_count": 127,
   "metadata": {
    "collapsed": false
   },
   "outputs": [],
   "source": [
    "X_new.shape\n",
    "distances, indices = nbrs.kneighbors(X_new)"
   ]
  },
  {
   "cell_type": "code",
   "execution_count": 128,
   "metadata": {
    "collapsed": false
   },
   "outputs": [
    {
     "name": "stdout",
     "output_type": "stream",
     "text": [
      "Alexa is the name of the Amazon cloud service that powers Echo, the groundbreaking new Amazon device designed around your voice. We have ambitious plans for Alexa and this is an opportunity to join a rapidly growing team that is working to build an exciting new Amazon business in voice.  We are seeking an innovative and highly motivated User Researcher to join our Research and Analytics team. Our research work ranges from formative to evaluative studies, immersive field research to rigorous usability and lab studies to address research needs for all phases of design and product development. You are a good fit for this position if you are an excellent communicator, knowledgeable about UX design, comfortable in a fast moving organization, excited to collaborate, and focused squarely on impacting the user experience of the Alexa service. You should have broad skills in user research, product research, and design research methods and a thorough understanding of qualitative and quantitative research concepts. You will work with minimal direction to quickly deliver high-quality outputs. There will be overlapping projects, so you are good at multi-tasking, juggling competing priorities, and organizing yourself. Most of all, you\\'re excited by translating uncertainty and ambiguity into actionable recommendations.  Responsibilities  Create a deep understanding and empathy for our target customers through field research, surveys, personas, lab studies, and other methods (existing or invented) that you identify to be most effective. Work closely with product and design teams to identify research topics, and build a research roadmap; communicate and refresh on regular basis to ensure relevancy. Ability to create research roadmaps that impact product lifecycles using a variety of appropriate techniques. Identify the best method or mix of methods based on research questions, timeline and resourcing. Ability to develop metrics that appropriately reflect the user experience quality of a feature, product or system. Understand different data types from different sources and perform quick but thorough data analysis in order to create insightful and actionable findings. Work cross-functionally with design, product management, engineering, and marketing to communicate results and recommendations, and advocate on behalf of our customers.   Basic Qualifications  BS in HCDE, Human Factors, Cognitive Psychology, or similar, and 7+ years\\' professional experience in related field. A strong portfolio demonstrating past work experience and deliverables (e.g.: study plans, reports). End-to-end experience with all aspects of research (study design, recruiting, moderation, analysis, reporting). The ability to understand, analyze and interpret complicated data The ability to manage ambiguity, work autonomously, and multi-task in an agile environment. Excellent communication, presentation, interpersonal and analytical skills; the ability to communicate complex concepts clearly and persuasively across different audiences and varying levels of the organization. A solid knowledge of the field of human-computer interaction, experimental design, observational and field methods and data analysis is required.   Preferred Qualifications  Graduate degree in Human Factors, HCDE, or Cognitive Psychology. Demonstrated ability to coordinate projects across functional teams, including engineering, merchandising, design, marketing, finance, and operations. Demonstrated thought-leadership with a passion for translating data into action. Strong grasp of quantitative data analysis and statistics. Experience in multimodal systems design research. A thorough understanding of the relationship between business, technology and user experience and role of user research.   Refer a LinkedIn connection  Share on your newsfeed \n",
      "\n",
      "FBN uses cutting edge statistical modeling and machine learning to make agriculture more efficient and more profitable. To do that, we integrate data from thousands of farms across America, then merge in relevant data about the conditions on those farms from weather stations and satellites. Our goal is always to provide independent and unbiased data analytics that farmers can use to help make optimal, data-driven crop management decisions.  We\\'re looking for a data scientist who shares our enthusiasm for applying big data to help farmers!  Requirements Responsibilities  Once you join our team, you will have the opportunity to:  Use your understanding of agriculture and creativity to develop exciting questions to explore using our massive datasets. Develop models and extract insights that help solve real-world problems facing farmers. Collaborate with the Product Team to transform your analytics into useful tools for FBN members.   Required Skills  Deep understanding of statistical modeling concepts. Familiarity with machine learning algorithms. Excellent programming skills (R or Python preferred). Excellent data visualization skills. Experience working with large datasets and big data technologies. Creativity; the ability to develop novel solutions to complex analytic challenges. Demonstrated passion for learning new skills and keeping up with current research. A love for agriculture and the mission of helping farmers. Impeccable verbal and written communication skills. Preferred: understanding of agricultural systems/ (soil chemistry, plant physiology, entomology, etc…).   Required Experience  MS or greater in statistics or related discipline with strong interest in agriculture; OR MS or greater in agronomy, entomology, plant science, soil science, or related discipline with strong quantitative skills and experience with data analysis.   Benefits  Health Insurance Stock options Farm visits!   Farmer’s Business Network, Inc. is an equal opportunity employer and participates in U.S. Citizenship and Immigration’s E-Verify program. \n",
      "\n",
      "To start, you\\'ll be surrounded by smart, innovative, caring people - invested in our customers and the community. If you\\'re looking to share your unique perspective and ideas at a collaborative table and help equip all kinds of businesses achieve their visions, check us out.  Summary:  The mission of the NetSuite Experience Design (xD) team is to enable NetSuite customers to do their jobs quickly, easily and delightfully. As a member of the team, you will expand NetSuite\\'s efforts to collaborate with customers and help shape the ideal end-user experience. You will work with product teams, and user experience professionals to understand their learning objectives, and develop appropriate activities to achieve those goals. You will also provide end-user expertise and research to help teams produce elegant, intuitive and optimal designs. Your research findings and analysis will lead to actionable recommendations.  Responsibilities:  Propose, plan, execute, and deliver user research and usability activities at NetSuite at various stages of the development lifecycle. Collaborate with the experience design team and product management to help establish a strong usability methodology for NetSuite. Educate other teams on research and usability best practices and enable teams to explore basic research activities on their own. This is a very hands-on role, and includes managing participant recruitment, data collection (includes moderating sessions), data synthesis and analysis, and delivery of findings and recommendations. Hands-on creative problem solving in a cloud-driven enterprise software system. Work with a multi-disciplined UX team of designers, user researchers and product managers in a fast-paced, dynamic, agile environment.   Minimum Qualifications:  5+ years\\' experience doing qualitative and quantitative user research. Extensive experience planning and executing different types of research and usability testing activities such as customer visits, requirements gathering activities, survey research, and formative and summative usability evaluations. Degree in the field of HCI, Human Factors, Usability Engineering or related field (advanced degree a plus) Ability to creatively come up with appropriate research and usability methods for given research questions. Strong sense of independence, ownership, and initiative. Ability to self-direct and manage what to work on, how to get it done, and when to deliver Excellent organization skills and the ability to manage multiple high-profile projects in a fast-paced organization. Ability to manage and prioritize multiple projects of varying timelines, degrees of complexity and scope. Outstanding written and verbal communication skills. Strong analytical and presentation skills. Nice to have: Consumer UX experience.   #LI-PS1 \n",
      "\n",
      "If you are a Lead UX Researcher with experience, please read on!  We are a company that helps our clients and customers chart data that they have in Hadoop, to determine trends and help illustrate and iterate business decisions.  Top Reasons to Work with Us  1. #1 Native Big Data Analytics Platform for Hadoop - We work with leading organizations such as Bank of America, Nike, American Express, Citi, DirecTV, Dinsey, and more. 2. Consistent Open dialogue between employees and management, where management is transparent and genuinely cares about employee wellness 3. Competitive Base Salary $110k- $160k (DOE)  What You Will Be Doing  We are looking for a Lead UX Researcher with 5+ years\\' experience in user experience product design and research. This person will have a proven track record influencing product direction with actionable customer insights and analyse and synthesize research results. Additionally, you will conduct user research activities and collect user needs/ behaviors with qualitative and quantitative methods. You will work stagtegically with other mangers and teams across the company and prodmote user-centered design methods.  What You Need for this Position  At Least 5 Years\\' of experience and knowledge of:  - User Experience - Research - Product Design - Agile Development - Influencing Product Direction  PLUSES: - experience with business intelligence or data visualization - experience with telemetry and instrumentation data analysis  So, if you are a Lead UX Researcher with experience, please apply today! \n",
      "\n",
      "Design, develop, and implement statistical and machine learning models for data center operations and interconnection platform by mining vast amounts of machine generated data. Analyze data to identify useful relations, patterns and features that are predictive of events of interest. Continuously identify and explore new and unconventional data sources. Apply advanced statistical, machine learning, and other types of analytical techniques to improve various forecasting models and other real-time analytics. Build, mentor and lead a world class data science team to answer big data questions for business stakeholders, lead team to utilize sophisticated data analysis techniques aimed at deriving meaningful insights to drive business results. Provide key input to the technical team on data requirements. Look for key opportunities and take a proactive approach to analysis; initiate proactive projects to uncover key insights. Collaborate with business partners to identify strategic opportunities, understand business problems, translate them into data science projects and appropriately prioritize and execute them. Educate and evangelize data driven approaches across the organization Qualifications MS or PhD in Statistics, Applied Mathematics, Computer Science or another quantitative discipline 3+ years of professional experience in statistical analysis, quantitative analytics, forecasting/predictive analytics, machine learning, experimental design, statistical inference, econometrics, multivariate testing, and optimization algorithms 6+ Professional experience in High Tech , Mathematics or statistical field. Proficient programming skills in multiple languages including R, Python, SQL, MATLAB and Java Proficiency with big data technology such as Hadoop, Pig, Hive, NoSQL, Spark, GraphDBs Strongly analytical, with an ability to multitask multiple projects Experience with Network analytics and data center industry is a strong plus. Excellent communications skills with the ability to present complex analytical concepts to different audiences. Ability to work independently on complex tasks Be a talent multiplier who gets the team around them to excel Be persistent, creative and driven to get results relentlessly Exhibit a strong backbone to challenge the status quo, when needed Exhibit a high level of curiosity, keeping abreast of the latest trends & technologies Show pride of ownership and strive for excellence in everything undertaken \n",
      "\n"
     ]
    }
   ],
   "source": [
    "for i in list(indices[0]):\n",
    "    print text[i], '\\n'"
   ]
  },
  {
   "cell_type": "code",
   "execution_count": 129,
   "metadata": {
    "collapsed": false
   },
   "outputs": [
    {
     "data": {
      "text/plain": [
       "array([[ 0.53713284,  0.55559261,  0.56420998,  0.59481341,  0.6026828 ]])"
      ]
     },
     "execution_count": 129,
     "metadata": {},
     "output_type": "execute_result"
    }
   ],
   "source": [
    "distances"
   ]
  },
  {
   "cell_type": "code",
   "execution_count": null,
   "metadata": {
    "collapsed": true
   },
   "outputs": [],
   "source": []
  },
  {
   "cell_type": "code",
   "execution_count": null,
   "metadata": {
    "collapsed": true
   },
   "outputs": [],
   "source": []
  }
 ],
 "metadata": {
  "kernelspec": {
   "display_name": "Python 2",
   "language": "python",
   "name": "python2"
  },
  "language_info": {
   "codemirror_mode": {
    "name": "ipython",
    "version": 2
   },
   "file_extension": ".py",
   "mimetype": "text/x-python",
   "name": "python",
   "nbconvert_exporter": "python",
   "pygments_lexer": "ipython2",
   "version": "2.7.10"
  }
 },
 "nbformat": 4,
 "nbformat_minor": 0
}
